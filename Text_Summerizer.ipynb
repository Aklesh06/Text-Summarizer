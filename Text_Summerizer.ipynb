{
  "cells": [
    {
      "cell_type": "code",
      "execution_count": null,
      "metadata": {
        "id": "Hp93SG8_VpgV"
      },
      "outputs": [],
      "source": [
        "%pip install transformers\n",
        "from transformers import pipeline\n",
        "import ipywidgets as widgets\n",
        "from IPython.display import clear_output, display\n",
        "\n",
        "summarizer = pipeline(task='summarization')"
      ]
    },
    {
      "cell_type": "code",
      "source": [
        "def make_summary(text,maxlen,minlen):\n",
        "  summerize_text = summarizer(text,max_length = maxlen, min_length = minlen, do_sample=False)\n",
        "  print(summerize_text[0]['summary_text'])"
      ],
      "metadata": {
        "id": "e41ZBs-ui7Nt"
      },
      "execution_count": 7,
      "outputs": []
    },
    {
      "cell_type": "code",
      "execution_count": 8,
      "metadata": {
        "id": "Sbsm7pMX28F9"
      },
      "outputs": [],
      "source": [
        "paragraph = widgets.Textarea(\n",
        "    placeholder='Enter the Text Paragraph....',\n",
        "    description = 'Text:',\n",
        "    layout = {'height':'200px','width':'100%'}\n",
        ")\n",
        "\n",
        "max_len = widgets.IntSlider(\n",
        "    value = 150,\n",
        "    min = 50,\n",
        "    max = 400,\n",
        "    step = 10,\n",
        "    description = 'Max_length:'\n",
        ")\n",
        "\n",
        "min_len = widgets.IntSlider(\n",
        "    value = 50,\n",
        "    min = 10,\n",
        "    max = 200,\n",
        "    step = 10,\n",
        "    description = 'Mix_length:'\n",
        ")"
      ]
    },
    {
      "cell_type": "code",
      "source": [
        "btn_summerize = widgets.Button(description='Summerize')\n",
        "\n",
        "def summmeriz_button_clicked(x):\n",
        "    if(len([*paragraph.value]) < max_len.value):\n",
        "      print(\"Your Text length is smaller then the maximum word size\")\n",
        "    elif(max_len.value < min_len.value):\n",
        "      print(\"Your mximum word size is smller then minimum word size\")\n",
        "    else:\n",
        "      make_summary(paragraph.value,max_len.value,min_len.value)\n",
        "\n",
        "btn_summerize.on_click(summmeriz_button_clicked)"
      ],
      "metadata": {
        "id": "2nyTQD5tlO0-"
      },
      "execution_count": 9,
      "outputs": []
    },
    {
      "cell_type": "code",
      "source": [
        "display(paragraph)\n",
        "display(max_len)\n",
        "display(min_len)\n",
        "display(btn_summerize)"
      ],
      "metadata": {
        "id": "1fuQW8Rrm4kV"
      },
      "execution_count": null,
      "outputs": []
    },
    {
      "cell_type": "markdown",
      "metadata": {
        "id": "96W7BjLsXbVL"
      },
      "source": []
    }
  ],
  "metadata": {
    "colab": {
      "provenance": []
    },
    "kernelspec": {
      "display_name": "Python 3",
      "name": "python3"
    },
    "language_info": {
      "name": "python"
    }
  },
  "nbformat": 4,
  "nbformat_minor": 0
}